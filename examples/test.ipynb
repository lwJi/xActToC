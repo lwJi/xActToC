{
 "cells": [
  {
   "cell_type": "markdown",
   "id": "e6706d47-8d93-43ec-8c85-d6c02ea8893b",
   "metadata": {},
   "source": [
    "# Example $r^i=M^i{}_jM^j{}_ku^k$"
   ]
  },
  {
   "cell_type": "markdown",
   "id": "3a5015f9-35f3-4c45-b284-20d3a8268f7f",
   "metadata": {},
   "source": [
    "$r^i = M^i{}_jM^j{}_ku^k$, if ADM_ConstringNorm=Msqr\n",
    "\n",
    "$r^i = M^i{}_ju^j$, otherwise"
   ]
  },
  {
   "cell_type": "markdown",
   "id": "18540e8f-65f4-466b-90bc-e441f375c81c",
   "metadata": {
    "tags": []
   },
   "source": [
    "## Load xAct\\`xTras\\`, and set some global variables"
   ]
  },
  {
   "cell_type": "code",
   "execution_count": 1,
   "id": "a2536477-e5c4-4183-b9f4-803e71c67ed8",
   "metadata": {},
   "outputs": [
    {
     "name": "stdout",
     "output_type": "stream",
     "text": [
      "------------------------------------------------------------\n",
      "Package xAct`xPerm`  version 1.2.3, {2015, 8, 23}\n",
      "CopyRight (C) 2003-2020, Jose M. Martin-Garcia, under the General Public\\\n",
      " \n",
      ">   License.\n",
      "Connecting to external mac executable...\n",
      "Connection established.\n",
      "------------------------------------------------------------\n",
      "Package xAct`xTensor`  version 1.2.0, {2021, 10, 17}\n",
      "CopyRight (C) 2002-2021, Jose M. Martin-Garcia, under the General Public\\\n",
      " \n",
      ">   License.\n",
      "------------------------------------------------------------\n",
      "Package xAct`xPert`  version 1.0.6, {2018, 2, 28}\n",
      "CopyRight (C) 2005-2020, David Brizuela, Jose M. Martin-Garcia and Guillermo\\\n",
      " \n",
      ">   A. Mena Marugan, under the General Public License.\n",
      "** Variable $PrePrint assigned value ScreenDollarIndices\n",
      "** Variable Prefix changed from Prefix to Postfix\n",
      "** Option AllowUpperDerivatives of ContractMetric changed from False to True\n",
      "** Option MetricOn of MakeRule changed from None to All\n",
      "** Option ContractMetrics of MakeRule changed from False to True\n",
      "------------------------------------------------------------\n",
      "Package xAct`Invar`  version 2.0.5, {2013, 7, 1}\n",
      "CopyRight (C) 2006-2020, J. M. Martin-Garcia, D. Yllanes and R. Portugal,\\\n",
      " \n",
      ">   under the General Public License.\n",
      "** DefConstantSymbol: Defining constant symbol sigma. \n",
      "** DefConstantSymbol: Defining constant symbol dim. \n",
      "** Option CurvatureRelations of DefCovD changed from True to False\n",
      "** Variable True changed from True to False\n",
      "------------------------------------------------------------\n",
      "Package xAct`xCoba`  version 0.8.6, {2021, 2, 28}\n",
      "CopyRight (C) 2005-2021, David Yllanes and Jose M. Martin-Garcia, under the\\\n",
      " \n",
      ">   General Public License.\n",
      "------------------------------------------------------------\n",
      "Package xAct`SymManipulator`  version 0.9.5, {2021, 9, 14}\n",
      "CopyRight (C) 2011-2021, Thomas Ba\"ckdahl, under the General Public License.\n",
      "------------------------------------------------------------\n",
      "Package xAct`xTras`  version 1.4.2, {2014, 10, 30}\n",
      "CopyRight (C) 2012-2014, Teake Nutma, under the General Public License.\n",
      "** Variable Postfix changed from Postfix to Prefix\n",
      "** Option CurvatureRelations of DefCovD changed from False to True\n",
      "------------------------------------------------------------\n",
      "These packages come with ABSOLUTELY NO WARRANTY; for details type\\\n",
      " \n",
      ">   Disclaimer[]. This is free software, and you are welcome to redistribute\\\n",
      " \n",
      ">   it under certain conditions. See the General Public License for details.\n",
      "------------------------------------------------------------\n"
     ]
    }
   ],
   "source": [
    "<< ../xActToC.wl"
   ]
  },
  {
   "cell_type": "markdown",
   "id": "1c5f7559-4bb9-4adf-a637-3eeadc19025b",
   "metadata": {},
   "source": [
    "## Set Manifold and Chart"
   ]
  },
  {
   "cell_type": "markdown",
   "id": "8d3bd067-7a51-41bb-a9e7-6c814cd1191a",
   "metadata": {},
   "source": [
    "### Dimension=3"
   ]
  },
  {
   "cell_type": "code",
   "execution_count": 2,
   "id": "87936b5c-1134-41dc-a9a3-3f70a125542a",
   "metadata": {},
   "outputs": [],
   "source": [
    "(* SetManifoldAndChart[3, cartesian, \"[[ijk]]\"]; *)\n",
    "SetManifoldAndChart[3, cartesian, \"[[ijk]]\", tensorIndexRange -> Union[Complement[IndexRange[a,z],{g}], Table[ToExpression[\"h\"<>ToString[i]],{i,1,9}],\n",
    "                                                                                                        Table[ToExpression[\"z\"<>ToString[i]],{i,1,9}]]]"
   ]
  },
  {
   "cell_type": "markdown",
   "id": "54eca1d3-eb47-4827-b26e-1d16cde3a22f",
   "metadata": {},
   "source": [
    "### More setup (not needed in most common cases)"
   ]
  },
  {
   "cell_type": "code",
   "execution_count": 4,
   "id": "8dda03c5-eede-49e0-b1c1-6676b802a4ad",
   "metadata": {},
   "outputs": [],
   "source": [
    "DefMetric[1, euclid[-i,-j], CD, PrintAs->\"e\"];\n",
    "MetricInBasis[euclid, -cartesian, DiagonalMatrix[{1,1,1}]];\n",
    "MetricInBasis[euclid, cartesian, DiagonalMatrix[{1,1,1}]];"
   ]
  },
  {
   "cell_type": "code",
   "execution_count": 6,
   "id": "da019324-41bc-4578-a268-d4e24a48cebc",
   "metadata": {},
   "outputs": [
    {
     "data": {
      "text/html": [
       "<div><img alt=\"Output\" src=\"data:image/png;base64,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\"></div>"
      ],
      "text/plain": [
       "FoldedRule[{euclid[{2, cartesian}, {1, cartesian}] -> \n",
       " \n",
       ">     euclid[{1, cartesian}, {2, cartesian}], \n",
       " \n",
       ">    euclid[{3, cartesian}, {1, cartesian}] -> euclid[{1, cartesian}, {3, cartesian}], \n",
       " \n",
       ">    euclid[{3, cartesian}, {2, cartesian}] -> euclid[{2, cartesian}, {3, cartesian}]}, \n",
       " \n",
       ">   {euclid[{1, cartesian}, {1, cartesian}] -> 1, \n",
       " \n",
       ">    euclid[{1, cartesian}, {2, cartesian}] -> 0, \n",
       " \n",
       ">    euclid[{1, cartesian}, {3, cartesian}] -> 0, \n",
       " \n",
       ">    euclid[{2, cartesian}, {2, cartesian}] -> 1, \n",
       " \n",
       ">    euclid[{2, cartesian}, {3, cartesian}] -> 0, \n",
       " \n",
       ">    euclid[{3, cartesian}, {3, cartesian}] -> 1}, \n",
       " \n",
       ">   {euclid[{2, -cartesian}, {1, -cartesian}] -> \n",
       " \n",
       ">     euclid[{1, -cartesian}, {2, -cartesian}], \n",
       " \n",
       ">    euclid[{3, -cartesian}, {1, -cartesian}] -> \n",
       " \n",
       ">     euclid[{1, -cartesian}, {3, -cartesian}], \n",
       " \n",
       ">    euclid[{3, -cartesian}, {2, -cartesian}] -> \n",
       " \n",
       ">     euclid[{2, -cartesian}, {3, -cartesian}]}, \n",
       " \n",
       ">   {euclid[{1, -cartesian}, {1, -cartesian}] -> 1, \n",
       " \n",
       ">    euclid[{1, -cartesian}, {2, -cartesian}] -> 0, \n",
       " \n",
       ">    euclid[{1, -cartesian}, {3, -cartesian}] -> 0, \n",
       " \n",
       ">    euclid[{2, -cartesian}, {2, -cartesian}] -> 1, \n",
       " \n",
       ">    euclid[{2, -cartesian}, {3, -cartesian}] -> 0, \n",
       " \n",
       ">    euclid[{3, -cartesian}, {3, -cartesian}] -> 1}]"
      ]
     },
     "execution_count": 6,
     "metadata": {
      "text/html": [],
      "text/plain": []
     },
     "output_type": "execute_result"
    }
   ],
   "source": [
    "TensorValues[euclid]"
   ]
  },
  {
   "cell_type": "code",
   "execution_count": 7,
   "id": "9786adbe-555b-4f9e-98cb-80c3d0b73ef7",
   "metadata": {},
   "outputs": [
    {
     "data": {
      "text/html": [
       "<div><img alt=\"Output\" src=\"data:image/png;base64,iVBORw0KGgoAAAANSUhEUgAAACwAAAA4CAIAAAAJoY3bAAAA0HpUWHRSYXcgcHJvZmlsZSB0eXBlIGV4aWYAAHjabU/tDUMhCPzvFB1BAQ8dx76nSTfo+EUlaWx6iXAcH0Lo79cIjwlKMUjWggpEg1Sp1IyUuLF9inXZBbo8l049sDelZlL+JtBdf566wgeWn0GRNuH5g3EWb/BBTFtPbcdPr6dWyjFoXGPBF145X/1vLKyEjKRiViiqohovwag5ZIpZMXABVphwU5TLfIeqtUFnBbfZOEFdz+oewCbc8wSej7iZz2YT20Vmt6JLyXQbl6XMcz6ruFxfyEHVGAAAAAlwSFlzAAAWJQAAFiUBSVIk8AAAADx0RVh0U29mdHdhcmUAQ3JlYXRlZCB3aXRoIHRoZSBXb2xmcmFtIExhbmd1YWdlIDogd3d3LndvbGZyYW0uY29tXKKmhQAAACF0RVh0Q3JlYXRpb24gVGltZQAyMDIyOjA1OjEwIDEyOjA3OjE1kY2P9QAABDRJREFUWIXt2E1IYl0YB/CnFLzWW+oYRdeUQEeh1E1E1iKooVUfEG6sTLIY0oJAaKUwMJObkqB2lVERBAkhiBCouDDJLFoV2UaJqFQETdRItPJdWPO+Yx+TmtXC/+qew3PP/S3OPfecW5BIJOCjU/jRAAAAbNp3hMOfAAEAajW43R+NcLvh9PSjEcl8/w6Vldk+3+MBtToLRGUlVFdniwCAT/J25BEPySMekkc8JI94SB7xkCcQiUTC6XTu7e2Fc7B1+DvC4/H09PQQicSvX782NDQQCAQGg6HRaN4Podfra2pq1tfXQ6EQiqIcDgdBEJfLJRAIpFLpeyDOz89FIlEwGGSxWBaL5eLi4uDgIBAIjI+PA8Dc3JzZbM45YmRkJBgMkslko9HY3Nyc7EQQRKVStbe3A4BSqcwt4ubmxmQyAcDY2BiNRkupEIlEAHB4eJg7BBYAHA5HNBoFAIPB4HQ6UyrOzs4AwO/3+/1+MpmcK8TJyUmyYbPZbDbbc6XxeDwXgnsEhUJJNqamplpbW58rLS8v/3/TZDL9w2Y3Nja+MHokEtnc3Ezp5PP5GAwmFcFms7FY7M3NTSAQqKureyV/cnKS/u3bywiXyzU6OprS2dnZicfjUxEIgjQ1NW1tbc3OzgqFwtra2lc6/hoKhSKTyZLHXa/Xu76+/mTZ/Su6sLBQVFR0fX3d1ta2trb2+5Qcj8eXlpZ4PJ7P58sAUVZWJpfLFQqFQqEQi8XPld0jWCyWWq0uKiryeDxCoZBAINTX17PZ7JKSkqGhod3d3fn5+QwQr8x/y3Zvb+/x8TGfz0cQJBwO7+/vHx0dxeNxLpe7uroql8tzh/jjBEaj0TY2Nm5vb10ul9PpRFGUxWKlTKIXEo/HpVKp2WwmkUg6nY5KpWaCSAaDwTCZTCaT+cohkonFYoODgwaDgUgkrqysvF7wNCKDRKPRgYEBs9lMJBK1Wi2Hw0nr9jdAXF9f9/f3WywWEomk1WrZbHa6I2SLuLq66uvr297exuPxmQmyRUQiEYFAYLfbASAajQaDwczGyWqjazQa7XZ7RUVFa2trIpEYHh7ObE3LdreNoqhOp1taWmIwGD6fTyKR3N3dvSsCRVG9Xk+n04uLixcXF3E4nNVqnZ6efrK4tLQ0eeFwON4SwePxfu/EamtrJyYmAEClUlmt1sfFVCq1oKAAADQaTfLbFIvFLi8vs0WkRCwWd3R0JBIJiUTyeHLgcLju7m4AWF5e5nK5XV1ddDo96c4KgcWmvlwzMzNVVVU+n08mkz2uVyqVLS0tAOD1end2dqLRaPJjXZD2v+1wGH7+hNNT+PEjs793brfb7XYXFhZWV1d/CYXg16+3WbbTCoqiKIreN0Ih+LwH4vdPHvGQLCamx/MGz/d4skOo1W+AAMgIUVICNBr8eYTKMukvVjnIp5iYnwLxLwpck51+RTlwAAAAAElFTkSuQmCC\"></div>"
      ],
      "text/plain": [
       "euclid[-k, -l]"
      ]
     },
     "execution_count": 7,
     "metadata": {
      "text/html": [],
      "text/plain": []
     },
     "output_type": "execute_result"
    }
   ],
   "source": [
    "euclid[-k,-l]"
   ]
  },
  {
   "cell_type": "markdown",
   "id": "a45ebc62-46e6-4d71-8501-f9b10d5157ef",
   "metadata": {},
   "source": [
    "## Define Variable List and Equations"
   ]
  },
  {
   "cell_type": "markdown",
   "id": "9d1d0dc0-673c-4de1-9205-3ecfb00ddb13",
   "metadata": {},
   "source": [
    "### Variable List"
   ]
  },
  {
   "cell_type": "code",
   "execution_count": 7,
   "id": "ab2e7dbe-e52e-4083-abcf-8325f7d9b4dd",
   "metadata": {},
   "outputs": [],
   "source": [
    "dtEvolVarlist = {\n",
    "   {rU[i]},\n",
    "   {g[-i,-j],Symmetric[{-i,-j}]}\n",
    "};\n",
    "EvolVarlist = {\n",
    "   {uU[i]},\n",
    "   {invdetg[]},\n",
    "   {invg[i,j],Symmetric[{i,j}]}\n",
    "};\n",
    "MoreInputVarlist = {\n",
    "   {MDD[-i,-j],Symmetric[{-i,-j}]}\n",
    "};\n",
    "TempVarlist = {\n",
    "   {vU[i]}\n",
    "};"
   ]
  },
  {
   "cell_type": "code",
   "execution_count": 18,
   "id": "fb903d05-6a5f-4268-ad68-cb3ee2bb4861",
   "metadata": {},
   "outputs": [
    {
     "data": {
      "text/html": [
       "<div><img alt=\"Output\" src=\"data:image/png;base64,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\"></div>"
      ],
      "text/plain": [
       "{{rU[i]}, {g[-i, -j], Symmetric[{-i, -j}]}}"
      ]
     },
     "execution_count": 18,
     "metadata": {
      "text/html": [],
      "text/plain": []
     },
     "output_type": "execute_result"
    }
   ],
   "source": [
    "dtEvolVarlist"
   ]
  },
  {
   "cell_type": "code",
   "execution_count": 11,
   "id": "bbd77cf6-d836-4c87-a817-c72596b85199",
   "metadata": {},
   "outputs": [],
   "source": [
    "ManipulateVarlist[\"set components: independent varlist index\", dtEvolVarlist];"
   ]
  },
  {
   "cell_type": "code",
   "execution_count": 20,
   "id": "f05b7b01-1ff0-4065-a683-b18e18a4434d",
   "metadata": {},
   "outputs": [
    {
     "name": "stdout",
     "output_type": "stream",
     "text": [
      "============================================================\n",
      " Writing to output.c\n",
      "============================================================\n",
      "output.c already exist, replacing it ...\n",
      "\n",
      "Done generating output.c\n",
      "\n"
     ]
    }
   ],
   "source": [
    "<< ../Codes/Nmesh.wl"
   ]
  },
  {
   "cell_type": "code",
   "execution_count": 21,
   "id": "594ed960-4349-4755-803d-01e3df4f3a96",
   "metadata": {},
   "outputs": [
    {
     "name": "stdout",
     "output_type": "stream",
     "text": [
      "                         2\n",
      "{{invdetg2[] (-g23[[ijk]]  + g22[[ijk]] g33[[ijk]]), \n",
      " \n",
      ">    invdetg2[] (g13[[ijk]] g23[[ijk]] - g12[[ijk]] g33[[ijk]]), \n",
      " \n",
      ">    invdetg2[] (-(g13[[ijk]] g22[[ijk]]) + g12[[ijk]] g23[[ijk]])}, \n",
      " \n",
      ">   {invdetg2[] (g13[[ijk]] g23[[ijk]] - g12[[ijk]] g33[[ijk]]), \n",
      " \n",
      "                            2\n",
      ">    invdetg2[] (-g13[[ijk]]  + g11[[ijk]] g33[[ijk]]), \n",
      " \n",
      ">    invdetg2[] (g12[[ijk]] g13[[ijk]] - g11[[ijk]] g23[[ijk]])}, \n",
      " \n",
      ">   {invdetg2[] (-(g13[[ijk]] g22[[ijk]]) + g12[[ijk]] g23[[ijk]]), \n",
      " \n",
      ">    invdetg2[] (g12[[ijk]] g13[[ijk]] - g11[[ijk]] g23[[ijk]]), \n",
      " \n",
      "                            2\n",
      ">    invdetg2[] (-g12[[ijk]]  + g11[[ijk]] g22[[ijk]])}}\n",
      "called\n"
     ]
    }
   ],
   "source": [
    "SetRHSOfInvMetricAndDet[g,invdetg2,invg2]"
   ]
  },
  {
   "cell_type": "code",
   "execution_count": 23,
   "id": "ed5f6cc5-431b-44a3-89b0-295d4882fbfd",
   "metadata": {},
   "outputs": [
    {
     "data": {
      "text/html": [
       "<div><img alt=\"Output\" src=\"data:image/png;base64,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\"></div>"
      ],
      "text/plain": [
       "invdetg2$RHS[]"
      ]
     },
     "execution_count": 23,
     "metadata": {
      "text/html": [],
      "text/plain": []
     },
     "output_type": "execute_result"
    }
   ],
   "source": [
    "invdetg2$RHS[]"
   ]
  },
  {
   "cell_type": "code",
   "execution_count": 16,
   "id": "9c77ca41-44ee-410c-afca-91bf25c8c0a9",
   "metadata": {},
   "outputs": [
    {
     "data": {
      "text/html": [
       "<div><img alt=\"Output\" src=\"data:image/png;base64,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\"></div>"
      ],
      "text/plain": [
       "FoldedRule[{g[{2, -cartesian}, {1, -cartesian}] -> g[{1, -cartesian}, {2, -cartesian}], \n",
       " \n",
       ">    g[{3, -cartesian}, {1, -cartesian}] -> g[{1, -cartesian}, {3, -cartesian}], \n",
       " \n",
       ">    g[{3, -cartesian}, {2, -cartesian}] -> g[{2, -cartesian}, {3, -cartesian}]}, \n",
       " \n",
       ">   {g[{1, -cartesian}, {1, -cartesian}] -> g11[[ijk]], \n",
       " \n",
       ">    g[{1, -cartesian}, {2, -cartesian}] -> g12[[ijk]], \n",
       " \n",
       ">    g[{1, -cartesian}, {3, -cartesian}] -> g13[[ijk]], \n",
       " \n",
       ">    g[{2, -cartesian}, {2, -cartesian}] -> g22[[ijk]], \n",
       " \n",
       ">    g[{2, -cartesian}, {3, -cartesian}] -> g23[[ijk]], \n",
       " \n",
       ">    g[{3, -cartesian}, {3, -cartesian}] -> g33[[ijk]]}]"
      ]
     },
     "execution_count": 16,
     "metadata": {
      "text/html": [],
      "text/plain": []
     },
     "output_type": "execute_result"
    }
   ],
   "source": [
    "TensorValues[g]"
   ]
  },
  {
   "cell_type": "code",
   "execution_count": 24,
   "id": "3904e73c-0581-4f4e-b7df-f81a463f977f",
   "metadata": {},
   "outputs": [
    {
     "ename": "TensorValues::invalid",
     "evalue": "invg2$RHS is not a valid expression for TensorValues.",
     "output_type": "error",
     "traceback": [
      "\u001b[0;31mTensorValues::invalid: invg2$RHS is not a valid expression for TensorValues.\u001b[0m"
     ]
    },
    {
     "ename": "Throw::nocatch",
     "evalue": "Uncaught Throw[Null] returned to top level.",
     "output_type": "error",
     "traceback": [
      "\u001b[0;31mThrow::nocatch: Uncaught Throw[Null] returned to top level.\u001b[0m"
     ]
    },
    {
     "data": {
      "text/html": [
       "<div><img alt=\"Output\" src=\"data:image/png;base64,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\"></div>"
      ],
      "text/plain": [
       "Hold[Throw[Null]]"
      ]
     },
     "execution_count": 24,
     "metadata": {
      "text/html": [],
      "text/plain": []
     },
     "output_type": "execute_result"
    }
   ],
   "source": [
    "TensorValues[invg2$RHS]"
   ]
  },
  {
   "cell_type": "code",
   "execution_count": 26,
   "id": "69c5d22b-cc6f-473f-b261-448902c1bee7",
   "metadata": {},
   "outputs": [
    {
     "data": {
      "text/html": [
       "<div><img alt=\"Output\" src=\"data:image/png;base64,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\"></div>"
      ],
      "text/plain": [
       "FoldedRule[{}, {invdetg2$RHS[] -> \n",
       " \n",
       "                       2\n",
       ">     -(1 / (g13[[ijk]]  g22[[ijk]] - 2 g12[[ijk]] g13[[ijk]] g23[[ijk]] + \n",
       " \n",
       "                     2                                    2\n",
       ">          g12[[ijk]]  g33[[ijk]] + g11[[ijk]] (g23[[ijk]]  - g22[[ijk]] g33[[ijk]])))}]"
      ]
     },
     "execution_count": 26,
     "metadata": {
      "text/html": [],
      "text/plain": []
     },
     "output_type": "execute_result"
    }
   ],
   "source": [
    "TensorValues[invdetg2$RHS]"
   ]
  },
  {
   "cell_type": "code",
   "execution_count": 30,
   "id": "3b503140-6a5d-44c9-a7dc-eb05d39a1c58",
   "metadata": {},
   "outputs": [],
   "source": [
    "DefTensor[RHSOf[invg][i,j],$Manifd, Symmetric[{i,j}]]"
   ]
  },
  {
   "cell_type": "code",
   "execution_count": 31,
   "id": "c7838dd7-e6f7-4837-b328-c3eaa8c0e068",
   "metadata": {},
   "outputs": [
    {
     "data": {
      "text/html": [
       "<div><img alt=\"Output\" src=\"data:image/png;base64,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\"></div>"
      ],
      "text/plain": [
       "FoldedRule[{}, {}]"
      ]
     },
     "execution_count": 31,
     "metadata": {
      "text/html": [],
      "text/plain": []
     },
     "output_type": "execute_result"
    }
   ],
   "source": [
    "TensorValues[RHSOf[invg]]"
   ]
  },
  {
   "cell_type": "code",
   "execution_count": null,
   "id": "f8ffa7ac-4ade-45e9-962d-f0b10abba7d2",
   "metadata": {},
   "outputs": [],
   "source": []
  }
 ],
 "metadata": {
  "kernelspec": {
   "display_name": "Wolfram Language 13",
   "language": "Wolfram Language",
   "name": "wolframlanguage13"
  },
  "language_info": {
   "codemirror_mode": "mathematica",
   "file_extension": ".m",
   "mimetype": "application/vnd.wolfram.m",
   "name": "Wolfram Language",
   "pygments_lexer": "mathematica",
   "version": "12.0"
  }
 },
 "nbformat": 4,
 "nbformat_minor": 5
}
