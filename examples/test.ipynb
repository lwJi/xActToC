{
 "cells": [
  {
   "cell_type": "markdown",
   "id": "e6706d47-8d93-43ec-8c85-d6c02ea8893b",
   "metadata": {},
   "source": [
    "# Example $r^i=M^i{}_jM^j{}_ku^k$"
   ]
  },
  {
   "cell_type": "markdown",
   "id": "3a5015f9-35f3-4c45-b284-20d3a8268f7f",
   "metadata": {},
   "source": [
    "$r^i = M^i{}_jM^j{}_ku^k$, if ADM_ConstringNorm=Msqr\n",
    "\n",
    "$r^i = M^i{}_ju^j$, otherwise"
   ]
  },
  {
   "cell_type": "markdown",
   "id": "18540e8f-65f4-466b-90bc-e441f375c81c",
   "metadata": {
    "tags": []
   },
   "source": [
    "## Load xAct\\`xTras\\`, and set some global variables"
   ]
  },
  {
   "cell_type": "code",
   "execution_count": 1,
   "id": "a2536477-e5c4-4183-b9f4-803e71c67ed8",
   "metadata": {},
   "outputs": [
    {
     "name": "stdout",
     "output_type": "stream",
     "text": [
      "------------------------------------------------------------\n",
      "Package xAct`xPerm`  version 1.2.3, {2015, 8, 23}\n",
      "CopyRight (C) 2003-2020, Jose M. Martin-Garcia, under the General Public\\\n",
      " \n",
      ">   License.\n",
      "Connecting to external mac executable...\n",
      "Connection established.\n",
      "------------------------------------------------------------\n",
      "Package xAct`xTensor`  version 1.2.0, {2021, 10, 17}\n",
      "CopyRight (C) 2002-2021, Jose M. Martin-Garcia, under the General Public\\\n",
      " \n",
      ">   License.\n",
      "------------------------------------------------------------\n",
      "Package xAct`xPert`  version 1.0.6, {2018, 2, 28}\n",
      "CopyRight (C) 2005-2020, David Brizuela, Jose M. Martin-Garcia and Guillermo\\\n",
      " \n",
      ">   A. Mena Marugan, under the General Public License.\n",
      "** Variable $PrePrint assigned value ScreenDollarIndices\n",
      "** Variable Prefix changed from Prefix to Postfix\n",
      "** Option AllowUpperDerivatives of ContractMetric changed from False to True\n",
      "** Option MetricOn of MakeRule changed from None to All\n",
      "** Option ContractMetrics of MakeRule changed from False to True\n",
      "------------------------------------------------------------\n",
      "Package xAct`Invar`  version 2.0.5, {2013, 7, 1}\n",
      "CopyRight (C) 2006-2020, J. M. Martin-Garcia, D. Yllanes and R. Portugal,\\\n",
      " \n",
      ">   under the General Public License.\n",
      "** DefConstantSymbol: Defining constant symbol sigma. \n",
      "** DefConstantSymbol: Defining constant symbol dim. \n",
      "** Option CurvatureRelations of DefCovD changed from True to False\n",
      "** Variable True changed from True to False\n",
      "------------------------------------------------------------\n",
      "Package xAct`xCoba`  version 0.8.6, {2021, 2, 28}\n",
      "CopyRight (C) 2005-2021, David Yllanes and Jose M. Martin-Garcia, under the\\\n",
      " \n",
      ">   General Public License.\n",
      "------------------------------------------------------------\n",
      "Package xAct`SymManipulator`  version 0.9.5, {2021, 9, 14}\n",
      "CopyRight (C) 2011-2021, Thomas Ba\"ckdahl, under the General Public License.\n",
      "------------------------------------------------------------\n",
      "Package xAct`xTras`  version 1.4.2, {2014, 10, 30}\n",
      "CopyRight (C) 2012-2014, Teake Nutma, under the General Public License.\n",
      "** Variable Postfix changed from Postfix to Prefix\n",
      "** Option CurvatureRelations of DefCovD changed from False to True\n",
      "------------------------------------------------------------\n",
      "These packages come with ABSOLUTELY NO WARRANTY; for details type\\\n",
      " \n",
      ">   Disclaimer[]. This is free software, and you are welcome to redistribute\\\n",
      " \n",
      ">   it under certain conditions. See the General Public License for details.\n",
      "------------------------------------------------------------\n"
     ]
    }
   ],
   "source": [
    "<< ../xActToC.wl"
   ]
  },
  {
   "cell_type": "markdown",
   "id": "1c5f7559-4bb9-4adf-a637-3eeadc19025b",
   "metadata": {},
   "source": [
    "## Set Manifold and Chart"
   ]
  },
  {
   "cell_type": "markdown",
   "id": "8d3bd067-7a51-41bb-a9e7-6c814cd1191a",
   "metadata": {},
   "source": [
    "### Dimension=3"
   ]
  },
  {
   "cell_type": "code",
   "execution_count": 2,
   "id": "87936b5c-1134-41dc-a9a3-3f70a125542a",
   "metadata": {},
   "outputs": [],
   "source": [
    "SetManifoldAndChart[3, cartesian, \"[[ijk]]\"];\n",
    "(* SetManifoldAndChart[3, cartesian, \"[[ijk]]\", tensorIndexRange -> Union[Complement[IndexRange[a,z],{g}], Table[ToExpression[\"h\"<>ToString[i]],{i,1,9}],\n",
    "                                                                                                        Table[ToExpression[\"z\"<>ToString[i]],{i,1,9}]]]\n",
    "*)"
   ]
  },
  {
   "cell_type": "markdown",
   "id": "54eca1d3-eb47-4827-b26e-1d16cde3a22f",
   "metadata": {},
   "source": [
    "### More setup (not needed in most common cases)"
   ]
  },
  {
   "cell_type": "code",
   "execution_count": 4,
   "id": "8dda03c5-eede-49e0-b1c1-6676b802a4ad",
   "metadata": {},
   "outputs": [],
   "source": [
    "DefMetric[1, euclid[-i,-j], CD, PrintAs->\"\\[Delta]\"];\n",
    "MetricInBasis[euclid, -cartesian, DiagonalMatrix[{1,1,1}]];\n",
    "MetricInBasis[euclid, cartesian, DiagonalMatrix[{1,1,1}]];"
   ]
  },
  {
   "cell_type": "code",
   "execution_count": 7,
   "id": "da019324-41bc-4578-a268-d4e24a48cebc",
   "metadata": {
    "collapsed": true,
    "jupyter": {
     "outputs_hidden": true,
     "source_hidden": true
    },
    "tags": []
   },
   "outputs": [
    {
     "data": {
      "text/html": [
       "<div><img alt=\"Output\" src=\"data:image/png;base64,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\"></div>"
      ],
      "text/plain": [
       "FoldedRule[{euclid[{2, cartesian}, {1, cartesian}] -> \n",
       " \n",
       ">     euclid[{1, cartesian}, {2, cartesian}], \n",
       " \n",
       ">    euclid[{3, cartesian}, {1, cartesian}] -> euclid[{1, cartesian}, {3, cartesian}], \n",
       " \n",
       ">    euclid[{3, cartesian}, {2, cartesian}] -> euclid[{2, cartesian}, {3, cartesian}]}, \n",
       " \n",
       ">   {euclid[{1, cartesian}, {1, cartesian}] -> 1, \n",
       " \n",
       ">    euclid[{1, cartesian}, {2, cartesian}] -> 0, \n",
       " \n",
       ">    euclid[{1, cartesian}, {3, cartesian}] -> 0, \n",
       " \n",
       ">    euclid[{2, cartesian}, {2, cartesian}] -> 1, \n",
       " \n",
       ">    euclid[{2, cartesian}, {3, cartesian}] -> 0, \n",
       " \n",
       ">    euclid[{3, cartesian}, {3, cartesian}] -> 1}, \n",
       " \n",
       ">   {euclid[{2, -cartesian}, {1, -cartesian}] -> \n",
       " \n",
       ">     euclid[{1, -cartesian}, {2, -cartesian}], \n",
       " \n",
       ">    euclid[{3, -cartesian}, {1, -cartesian}] -> \n",
       " \n",
       ">     euclid[{1, -cartesian}, {3, -cartesian}], \n",
       " \n",
       ">    euclid[{3, -cartesian}, {2, -cartesian}] -> \n",
       " \n",
       ">     euclid[{2, -cartesian}, {3, -cartesian}]}, \n",
       " \n",
       ">   {euclid[{1, -cartesian}, {1, -cartesian}] -> 1, \n",
       " \n",
       ">    euclid[{1, -cartesian}, {2, -cartesian}] -> 0, \n",
       " \n",
       ">    euclid[{1, -cartesian}, {3, -cartesian}] -> 0, \n",
       " \n",
       ">    euclid[{2, -cartesian}, {2, -cartesian}] -> 1, \n",
       " \n",
       ">    euclid[{2, -cartesian}, {3, -cartesian}] -> 0, \n",
       " \n",
       ">    euclid[{3, -cartesian}, {3, -cartesian}] -> 1}]"
      ]
     },
     "execution_count": 7,
     "metadata": {
      "text/html": [],
      "text/plain": []
     },
     "output_type": "execute_result"
    }
   ],
   "source": [
    "TensorValues[euclid]"
   ]
  },
  {
   "cell_type": "code",
   "execution_count": 8,
   "id": "9786adbe-555b-4f9e-98cb-80c3d0b73ef7",
   "metadata": {
    "collapsed": true,
    "jupyter": {
     "outputs_hidden": true,
     "source_hidden": true
    },
    "tags": []
   },
   "outputs": [
    {
     "data": {
      "text/html": [
       "<div><img alt=\"Output\" src=\"data:image/png;base64,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\"></div>"
      ],
      "text/plain": [
       "euclid[-k, -l]"
      ]
     },
     "execution_count": 8,
     "metadata": {
      "text/html": [],
      "text/plain": []
     },
     "output_type": "execute_result"
    }
   ],
   "source": [
    "euclid[-k,-l]"
   ]
  },
  {
   "cell_type": "markdown",
   "id": "a45ebc62-46e6-4d71-8501-f9b10d5157ef",
   "metadata": {},
   "source": [
    "## Define Variable List and Equations"
   ]
  },
  {
   "cell_type": "markdown",
   "id": "9d1d0dc0-673c-4de1-9205-3ecfb00ddb13",
   "metadata": {},
   "source": [
    "### Variable List"
   ]
  },
  {
   "cell_type": "code",
   "execution_count": 7,
   "id": "ab2e7dbe-e52e-4083-abcf-8325f7d9b4dd",
   "metadata": {},
   "outputs": [],
   "source": [
    "dtEvolVarlist = {\n",
    "   {rU[i], PrintAs->\"r\"}\n",
    "};\n",
    "EvolVarlist = {\n",
    "   {uU[i], PrintAs->\"u\"}\n",
    "};\n",
    "MoreInputVarlist = {\n",
    "   {MDD[-i,-j], Symmetric[{-i,-j}], PrintAs->\"M\"}\n",
    "};\n",
    "TempVarlist = {\n",
    "   {vU[i], PrintAs->\"v\"}\n",
    "};"
   ]
  },
  {
   "cell_type": "markdown",
   "id": "959c7627-620b-4ffe-8024-634ea74ad372",
   "metadata": {},
   "source": [
    "### Set up components"
   ]
  },
  {
   "cell_type": "code",
   "execution_count": 11,
   "id": "bbd77cf6-d836-4c87-a817-c72596b85199",
   "metadata": {},
   "outputs": [],
   "source": [
    "ManipulateVarlist[\"set components: independent varlist index\", dtEvolVarlist];\n",
    "ManipulateVarlist[\"set components: independent varlist index\", EvolVarlist];\n",
    "ManipulateVarlist[\"set components: independent varlist index\", MoreInputVarlist];\n",
    "ManipulateVarlist[\"set components: for temporary varlist\", TempVarlist];"
   ]
  },
  {
   "cell_type": "code",
   "execution_count": 18,
   "id": "8a4fa536-00ea-4164-b4df-058ad1ec5110",
   "metadata": {},
   "outputs": [
    {
     "data": {
      "text/html": [
       "<div><img alt=\"Output\" src=\"data:image/png;base64,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\"></div>"
      ],
      "text/plain": [
       "FoldedRule[{}, {rU[{1, cartesian}] -> rU1[[ijk]], rU[{2, cartesian}] -> rU2[[ijk]], \n",
       " \n",
       ">    rU[{3, cartesian}] -> rU3[[ijk]]}]"
      ]
     },
     "execution_count": 18,
     "metadata": {
      "text/html": [],
      "text/plain": []
     },
     "output_type": "execute_result"
    }
   ],
   "source": [
    "TensorValues[rU]"
   ]
  },
  {
   "cell_type": "markdown",
   "id": "b7fd2a7f-e509-47e7-82a2-93e9f22193ac",
   "metadata": {},
   "source": [
    "### Equations"
   ]
  },
  {
   "cell_type": "code",
   "execution_count": 15,
   "id": "df3438a0-121a-4055-9034-623e1cee1d32",
   "metadata": {},
   "outputs": [],
   "source": [
    "IndexSet[RHSOf[vU][i_], euclid[i, k] MDD[-k, -j] uU[j]];"
   ]
  },
  {
   "cell_type": "code",
   "execution_count": 16,
   "id": "4d3023d8-80e3-43cd-8271-2932ec349771",
   "metadata": {},
   "outputs": [
    {
     "data": {
      "text/html": [
       "<div><img alt=\"Output\" src=\"data:image/png;base64,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\"></div>"
      ],
      "text/plain": [
       "euclid[i, b] MDD[-b, -a] uU[a]"
      ]
     },
     "execution_count": 16,
     "metadata": {
      "text/html": [],
      "text/plain": []
     },
     "output_type": "execute_result"
    }
   ],
   "source": [
    "RHSOf[vU][i]"
   ]
  },
  {
   "cell_type": "code",
   "execution_count": 17,
   "id": "b751f453-3b56-4bc7-9b42-8ec4d4491721",
   "metadata": {},
   "outputs": [],
   "source": [
    "IndexSet[RHSOf[rU, \"Msqr\"][i_], euclid[i, k] MDD[-k, -j] vU[j]];"
   ]
  },
  {
   "cell_type": "code",
   "execution_count": 18,
   "id": "72a474ee-dcc9-43ec-a9de-c102e05f97ea",
   "metadata": {},
   "outputs": [
    {
     "data": {
      "text/html": [
       "<div><img alt=\"Output\" src=\"data:image/png;base64,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\"></div>"
      ],
      "text/plain": [
       "euclid[i, b] MDD[-b, -a] vU[a]"
      ]
     },
     "execution_count": 18,
     "metadata": {
      "text/html": [],
      "text/plain": []
     },
     "output_type": "execute_result"
    }
   ],
   "source": [
    "RHSOf[rU, \"Msqr\"][i]"
   ]
  },
  {
   "cell_type": "code",
   "execution_count": 19,
   "id": "2c51283d-7346-4bcd-8e8c-1e9247a5033a",
   "metadata": {},
   "outputs": [],
   "source": [
    "IndexSet[RHSOf[rU, \"otherwise\"][i_], vU[i]];"
   ]
  },
  {
   "cell_type": "code",
   "execution_count": 20,
   "id": "5605f5a9-4017-4347-92d1-8e2f221e5225",
   "metadata": {},
   "outputs": [
    {
     "data": {
      "text/html": [
       "<div><img alt=\"Output\" src=\"data:image/png;base64,iVBORw0KGgoAAAANSUhEUgAAAB4AAAA4CAIAAABlp9/eAAAA0npUWHRSYXcgcHJvZmlsZSB0eXBlIGV4aWYAAHjabU/bDQMhDPtnio5AHjgwDr3jpG7Q8ZsAUnVVLZE4ThwgjffrSo8AU05arKIB2aFNG3cnNS+sTLnNuIqxe3TXk2wTdZfKt4FtoOddN6zM9WdR5kUkbnAuug17kfDSqa/6uee513pbdB3XxH7w7O2n/61VjFFAph6Vsxma85qcekLhXAwXDsAHCSdnPTwPmLkNFhPSwxjgYffpkSAunPEFicPSPRePJMShiPMyFZXCp3d1zsR3Pq4OXGmzJMRBAAAACXBIWXMAABYlAAAWJQFJUiTwAAAAPHRFWHRTb2Z0d2FyZQBDcmVhdGVkIHdpdGggdGhlIFdvbGZyYW0gTGFuZ3VhZ2UgOiB3d3cud29sZnJhbS5jb21coqaFAAAAIXRFWHRDcmVhdGlvbiBUaW1lADIwMjI6MDU6MTEgMjM6NTU6NDVJKVsiAAACZUlEQVRYhe2Yv2viYBjHv6aJZ6WF1EHIUotCb9M/QDdB4o/roEKP4qRUbfF/8Jbr6qoE6Q9cXESr4OTQpeDmcOANymkHM7QoxWKxEbxBGrR67cUoVPA7hOR53ueTJ0+evG8SxXA4xHJELIkLgJQc0e1O25rNZqVSsVqtW1tbolEhuSDdLjgOrZZo6L+8/K5WAag2N7/u74t26VkDaLXQbIpHXwATTYv5y0OPdHwMhgEgCMLPs7N6ve50Or8fHgIAz4PjZKAZBnt7ACjgx/n5tP9Tdcirvh0c/JrsFpvNlkgkFoAe19PTE4BerzdunL8g+evrP68Kh8PTA5ZY6zV6jV5xNEmS4nbB6Gg0en9/fz45/xEAfD4fTdNms3lm2N3dnUajoWk6m81KOh8BwOVyPT4+3t7elsvl6REcx3U6HZIkWZaVjPZ4PAzDAIjH42/cg8EgmUwC8Pv9KpVKMpqiqGAwCCCdTnc6nXF3LpfjeV6hUMyc2z5GAwiFQhRFPT8/X11djbtH18GyrF6vnxPNMIzb7QYwvkzUarVSqQTg9PRUKhfjzReJRABUq9Wbm5uRJZFIDIdDnU7ncDhkoS0Wi8lkEhMXBOHi4gJAKBQiiHnafyJmlHgmk2m32/l8/uHhQalUBgKBObhv0UdHRzs7O/1+P5VKXV5eAvB6vVqtdgFotVrt9/sBxGKxYrGIeW/gDDSAk5MTgiAajYYgCEaj8V9P/zxog8Fgt9tH+3JSxsxXnEKhIIco6tMvBWv0Gr1Gr9GrhJbxScrz77tkoDnufb909PY2dnexsfHhQOl/cf5bq9khfwGoo814IYEEwwAAAABJRU5ErkJggg==\"></div>"
      ],
      "text/plain": [
       "vU[i]"
      ]
     },
     "execution_count": 20,
     "metadata": {
      "text/html": [],
      "text/plain": []
     },
     "output_type": "execute_result"
    }
   ],
   "source": [
    "RHSOf[rU, \"otherwise\"][i]"
   ]
  },
  {
   "cell_type": "markdown",
   "id": "21bc04ce-706c-4406-9dc1-8781e21b6a07",
   "metadata": {},
   "source": [
    "## Write to C-File"
   ]
  },
  {
   "cell_type": "markdown",
   "id": "ac275d70-344f-4c40-b212-89ca988f0bb1",
   "metadata": {},
   "source": [
    "### Set more global variables"
   ]
  },
  {
   "cell_type": "code",
   "execution_count": 21,
   "id": "456b8167-03da-4ec3-877e-5d0da600d5c8",
   "metadata": {},
   "outputs": [],
   "source": [
    "$outputFile = \"test.c\";\n",
    "$projectName = \"C3GH\";"
   ]
  },
  {
   "cell_type": "markdown",
   "id": "0a710002-a4fe-4686-948f-4d7b307dc575",
   "metadata": {
    "tags": []
   },
   "source": [
    "### Head Part"
   ]
  },
  {
   "cell_type": "code",
   "execution_count": 23,
   "id": "40f6c7a1-9c08-41f6-9f93-9c42325d8372",
   "metadata": {},
   "outputs": [],
   "source": [
    "$headPart[] := Module[{},\n",
    "   pr[\"#include \\\"nmesh.h\\\"\"];\n",
    "   pr[\"#include \\\"\" <> $projectName <> \".h\\\"\"];\n",
    "   pr[];\n",
    "   pr[\"#define Power(x,y) (pow((double) (x),(double) (y)))\"];\n",
    "   pr[\"#define Log(x) log((double) (x))\"];\n",
    "   pr[\"#define pow2(x) ((x)*(x))\"];\n",
    "   pr[\"#define pow2inv(x) (1.0/((x)*(x)))\"];\n",
    "   pr[\"#define Cal(x,y,z) ((x)?(y):(z))\"];\n",
    "   pr[\"#define Sqrt(x) sqrt(x)\"];\n",
    "   pr[\"#define Abs(x) fabs(x)\"];\n",
    "   pr[];\n",
    "   pr[];\n",
    "   pr[\"/* use globals from \" <> $projectName <> \" */\"];\n",
    "   pr[\"extern t\" <> $projectName <> \" \" <> $projectName <> \"[1];\"];\n",
    "   pr[];\n",
    "   pr[];\n",
    "   pr[\"void test(tVarList *vlu, tVarList *vlr)\"];\n",
    "   pr[\"{\"];\n",
    "   pr[\"tMesh *mesh = u->mesh;\"];\n",
    "   pr[];\n",
    "   pr[\"int Msqr = GetvLax(Par(\\\"ADM_ConstraintNorm\\\"), \\\"Msqr \\\");\"];\n",
    "   pr[];\n",
    "   pr[\"formylnodes(mesh)\"];\n",
    "   pr[\"{\"];\n",
    "   pr[\"tNode *node = MyLnode;\"];\n",
    "   pr[\"int ijk;\"];\n",
    "   pr[];\n",
    "   pr[\"forpoints(node, ijk)\"];\n",
    "   pr[\"{\"];\n",
    "   pr[\"int iMDD = Ind(\\\"ADM_gxx\\\");\"];\n",
    "   pr[];\n",
    "];"
   ]
  },
  {
   "cell_type": "markdown",
   "id": "5c69f9f8-94ff-421d-8c19-5635b774c6f3",
   "metadata": {},
   "source": [
    "### Body part"
   ]
  },
  {
   "cell_type": "code",
   "execution_count": 24,
   "id": "11852f4e-c5cd-494f-aa93-f27c7531805b",
   "metadata": {},
   "outputs": [],
   "source": [
    "$bodyPart[] := Module[{},\n",
    "  (* print initializations *)\n",
    "  Print[\"Printing components ...\"];\n",
    "  ManipulateVarlist[\"print components initialization: vlr\", dtEvolVarlist];\n",
    "  ManipulateVarlist[\"print components initialization: vlu\", EvolVarlist];\n",
    "  ManipulateVarlist[\"print components initialization: more input/output\", MoreInputVarlist];\n",
    "  ManipulateVarlist[\"print components equation: temporary\", TempVarlist];\n",
    "  pr[];\n",
    "  (* print equations *)\n",
    "  Print[\"Printing components ...\"];\n",
    "  pr[\"if(Msqr)\"];\n",
    "  pr[\"{\"];\n",
    "  (*ManipulateVarlist[\n",
    "  \"print components equation: primary with suffix\",dtEvolVarlist, suffixName->\"Msqr\"];*)\n",
    "  ManipulateVarlist[\"print components equation: primary with suffix\", dtEvolVarlist, {coordinate -> cartesian, gridPointIndex -> \"[[ijk]]\", suffixName -> \"Msqr\"}];\n",
    "  pr[\"}\"];\n",
    "  pr[\"else\"];\n",
    "  pr[\"{\"];\n",
    "  ManipulateVarlist[\"print components equation: primary with suffix\", dtEvolVarlist, suffixName -> \"otherwise\"];\n",
    "  pr[\"}\"];\n",
    "  pr[];\n",
    "];"
   ]
  },
  {
   "cell_type": "markdown",
   "id": "20e13c70-d7ae-4115-9eb6-3369b8fc73d2",
   "metadata": {},
   "source": [
    "### End part"
   ]
  },
  {
   "cell_type": "code",
   "execution_count": 25,
   "id": "2fdc65f4-4197-43ed-83b6-4cbf32a49193",
   "metadata": {},
   "outputs": [],
   "source": [
    "$endPart[] := Module[{},\n",
    "      pr[\"} /* end of points */\"];\n",
    "      pr[\"} /* end of nodes */\"];\n",
    "      pr[\"}\"];\n",
    "];"
   ]
  },
  {
   "cell_type": "code",
   "execution_count": 26,
   "id": "f05b7b01-1ff0-4065-a683-b18e18a4434d",
   "metadata": {},
   "outputs": [
    {
     "name": "stdout",
     "output_type": "stream",
     "text": [
      "============================================================\n",
      " Writing to test.c\n",
      "============================================================\n",
      "test.c already exist, replacing it ...\n",
      "\n",
      "Printing components ...\n",
      "Printing components ...\n",
      "Done generating test.c\n",
      "\n"
     ]
    }
   ],
   "source": [
    "<< ../Codes/Nmesh.wl"
   ]
  },
  {
   "cell_type": "code",
   "execution_count": null,
   "id": "42c22112-129e-4750-9abe-a5f02dbbb5e2",
   "metadata": {},
   "outputs": [],
   "source": []
  }
 ],
 "metadata": {
  "kernelspec": {
   "display_name": "Wolfram Language 13",
   "language": "Wolfram Language",
   "name": "wolframlanguage13"
  },
  "language_info": {
   "codemirror_mode": "mathematica",
   "file_extension": ".m",
   "mimetype": "application/vnd.wolfram.m",
   "name": "Wolfram Language",
   "pygments_lexer": "mathematica",
   "version": "12.0"
  }
 },
 "nbformat": 4,
 "nbformat_minor": 5
}
